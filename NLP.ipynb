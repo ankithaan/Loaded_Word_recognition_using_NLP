{
  "nbformat": 4,
  "nbformat_minor": 0,
  "metadata": {
    "colab": {
      "name": "NLP.ipynb",
      "provenance": [],
      "collapsed_sections": [],
      "include_colab_link": true
    },
    "kernelspec": {
      "display_name": "Python 3",
      "name": "python3"
    },
    "language_info": {
      "name": "python"
    },
    "accelerator": "GPU"
  },
  "cells": [
    {
      "cell_type": "markdown",
      "metadata": {
        "id": "view-in-github",
        "colab_type": "text"
      },
      "source": [
        "<a href=\"https://colab.research.google.com/github/Akanksha-c/Loaded_Word_recognition_using_NLP/blob/master/NLP.ipynb\" target=\"_parent\"><img src=\"https://colab.research.google.com/assets/colab-badge.svg\" alt=\"Open In Colab\"/></a>"
      ]
    },
    {
      "cell_type": "code",
      "metadata": {
        "colab": {
          "base_uri": "https://localhost:8080/"
        },
        "id": "uJABzXfemJPV",
        "outputId": "b40ce41d-aca3-4760-acf3-59d001f7a2d0"
      },
      "source": [
        "!pip install SpeechRecognition\n",
        "import speech_recognition as sr\n",
        "r = sr.Recognizer()"
      ],
      "execution_count": null,
      "outputs": [
        {
          "output_type": "stream",
          "text": [
            "Collecting SpeechRecognition\n",
            "  Downloading SpeechRecognition-3.8.1-py2.py3-none-any.whl (32.8 MB)\n",
            "\u001b[K     |████████████████████████████████| 32.8 MB 33 kB/s \n",
            "\u001b[?25hInstalling collected packages: SpeechRecognition\n",
            "Successfully installed SpeechRecognition-3.8.1\n"
          ],
          "name": "stdout"
        }
      ]
    },
    {
      "cell_type": "code",
      "metadata": {
        "id": "B_TIT1qL35Cv",
        "colab": {
          "base_uri": "https://localhost:8080/"
        },
        "outputId": "a58b47fc-c815-45ae-8189-8edeaa40dbf3"
      },
      "source": [
        "pip install pyaudioclassification"
      ],
      "execution_count": null,
      "outputs": [
        {
          "output_type": "stream",
          "text": [
            "Collecting pyaudioclassification\n",
            "  Downloading pyaudioclassification-0.1.9-py3-none-any.whl (6.0 kB)\n",
            "Requirement already satisfied: numpy in /usr/local/lib/python3.7/dist-packages (from pyaudioclassification) (1.19.5)\n",
            "Requirement already satisfied: keras in /usr/local/lib/python3.7/dist-packages (from pyaudioclassification) (2.4.3)\n",
            "Requirement already satisfied: tqdm in /usr/local/lib/python3.7/dist-packages (from pyaudioclassification) (4.41.1)\n",
            "Requirement already satisfied: soundfile in /usr/local/lib/python3.7/dist-packages (from pyaudioclassification) (0.10.3.post1)\n",
            "Requirement already satisfied: librosa in /usr/local/lib/python3.7/dist-packages (from pyaudioclassification) (0.8.1)\n",
            "Requirement already satisfied: pyyaml in /usr/local/lib/python3.7/dist-packages (from keras->pyaudioclassification) (3.13)\n",
            "Requirement already satisfied: h5py in /usr/local/lib/python3.7/dist-packages (from keras->pyaudioclassification) (3.1.0)\n",
            "Requirement already satisfied: scipy>=0.14 in /usr/local/lib/python3.7/dist-packages (from keras->pyaudioclassification) (1.4.1)\n",
            "Requirement already satisfied: cached-property in /usr/local/lib/python3.7/dist-packages (from h5py->keras->pyaudioclassification) (1.5.2)\n",
            "Requirement already satisfied: resampy>=0.2.2 in /usr/local/lib/python3.7/dist-packages (from librosa->pyaudioclassification) (0.2.2)\n",
            "Requirement already satisfied: decorator>=3.0.0 in /usr/local/lib/python3.7/dist-packages (from librosa->pyaudioclassification) (4.4.2)\n",
            "Requirement already satisfied: joblib>=0.14 in /usr/local/lib/python3.7/dist-packages (from librosa->pyaudioclassification) (1.0.1)\n",
            "Requirement already satisfied: scikit-learn!=0.19.0,>=0.14.0 in /usr/local/lib/python3.7/dist-packages (from librosa->pyaudioclassification) (0.22.2.post1)\n",
            "Requirement already satisfied: audioread>=2.0.0 in /usr/local/lib/python3.7/dist-packages (from librosa->pyaudioclassification) (2.1.9)\n",
            "Requirement already satisfied: packaging>=20.0 in /usr/local/lib/python3.7/dist-packages (from librosa->pyaudioclassification) (21.0)\n",
            "Requirement already satisfied: pooch>=1.0 in /usr/local/lib/python3.7/dist-packages (from librosa->pyaudioclassification) (1.4.0)\n",
            "Requirement already satisfied: numba>=0.43.0 in /usr/local/lib/python3.7/dist-packages (from librosa->pyaudioclassification) (0.51.2)\n",
            "Requirement already satisfied: llvmlite<0.35,>=0.34.0.dev0 in /usr/local/lib/python3.7/dist-packages (from numba>=0.43.0->librosa->pyaudioclassification) (0.34.0)\n",
            "Requirement already satisfied: setuptools in /usr/local/lib/python3.7/dist-packages (from numba>=0.43.0->librosa->pyaudioclassification) (57.2.0)\n",
            "Requirement already satisfied: pyparsing>=2.0.2 in /usr/local/lib/python3.7/dist-packages (from packaging>=20.0->librosa->pyaudioclassification) (2.4.7)\n",
            "Requirement already satisfied: appdirs in /usr/local/lib/python3.7/dist-packages (from pooch>=1.0->librosa->pyaudioclassification) (1.4.4)\n",
            "Requirement already satisfied: requests in /usr/local/lib/python3.7/dist-packages (from pooch>=1.0->librosa->pyaudioclassification) (2.23.0)\n",
            "Requirement already satisfied: six>=1.3 in /usr/local/lib/python3.7/dist-packages (from resampy>=0.2.2->librosa->pyaudioclassification) (1.15.0)\n",
            "Requirement already satisfied: cffi>=1.0 in /usr/local/lib/python3.7/dist-packages (from soundfile->pyaudioclassification) (1.14.6)\n",
            "Requirement already satisfied: pycparser in /usr/local/lib/python3.7/dist-packages (from cffi>=1.0->soundfile->pyaudioclassification) (2.20)\n",
            "Requirement already satisfied: certifi>=2017.4.17 in /usr/local/lib/python3.7/dist-packages (from requests->pooch>=1.0->librosa->pyaudioclassification) (2021.5.30)\n",
            "Requirement already satisfied: urllib3!=1.25.0,!=1.25.1,<1.26,>=1.21.1 in /usr/local/lib/python3.7/dist-packages (from requests->pooch>=1.0->librosa->pyaudioclassification) (1.24.3)\n",
            "Requirement already satisfied: chardet<4,>=3.0.2 in /usr/local/lib/python3.7/dist-packages (from requests->pooch>=1.0->librosa->pyaudioclassification) (3.0.4)\n",
            "Requirement already satisfied: idna<3,>=2.5 in /usr/local/lib/python3.7/dist-packages (from requests->pooch>=1.0->librosa->pyaudioclassification) (2.10)\n",
            "Installing collected packages: pyaudioclassification\n",
            "Successfully installed pyaudioclassification-0.1.9\n"
          ],
          "name": "stdout"
        }
      ]
    },
    {
      "cell_type": "code",
      "metadata": {
        "id": "E6Zetg8UJLfK",
        "colab": {
          "base_uri": "https://localhost:8080/"
        },
        "outputId": "95ca90cc-06fc-4936-8203-9ac79d85281d"
      },
      "source": [
        "from google.colab import drive\n",
        "drive.mount('/content/drive')"
      ],
      "execution_count": null,
      "outputs": [
        {
          "output_type": "stream",
          "text": [
            "Mounted at /content/drive\n"
          ],
          "name": "stdout"
        }
      ]
    },
    {
      "cell_type": "code",
      "metadata": {
        "id": "SeHc0Gbf6Lqm"
      },
      "source": [
        "from __future__ import absolute_import\n",
        "import os\n",
        "from pyaudioclassification.feat_extract import parse_audio_files, parse_audio_file\n",
        "import numpy as np\n",
        "import pyaudioclassification.models\n",
        "from tensorflow.keras.utils import to_categorical\n",
        "import numpy as np\n",
        "from keras.optimizers import SGD"
      ],
      "execution_count": null,
      "outputs": []
    },
    {
      "cell_type": "code",
      "metadata": {
        "id": "xHQI6Bu7oEGX"
      },
      "source": [
        "def feature_extraction(data_path):\n",
        "    \"\"\"Parses audio files in supplied data path.\"\"\"\n",
        "    r = os.listdir(data_path)\n",
        "    r.sort()\n",
        "    features, labels = parse_audio_files(data_path, r)\n",
        "    return features, labels"
      ],
      "execution_count": null,
      "outputs": []
    },
    {
      "cell_type": "code",
      "metadata": {
        "colab": {
          "base_uri": "https://localhost:8080/"
        },
        "id": "DRTZ5X7TOdDG",
        "outputId": "24891521-3c6c-494a-c541-3c37368c7bdf"
      },
      "source": [
        "from pyaudioclassification import feature_extraction, train, predict\n",
        "features, labels = feature_extraction('/content/drive/MyDrive/NLP1')"
      ],
      "execution_count": null,
      "outputs": [
        {
          "output_type": "stream",
          "text": [
            "\r  0%|          | 0/70 [00:00<?, ?it/s]"
          ],
          "name": "stderr"
        },
        {
          "output_type": "stream",
          "text": [
            "Reading /content/drive/MyDrive/NLP1/loaded/*.wav ...\n"
          ],
          "name": "stdout"
        },
        {
          "output_type": "stream",
          "text": [
            " 11%|█▏        | 8/70 [00:17<02:19,  2.25s/it]/usr/local/lib/python3.7/dist-packages/librosa/core/spectrum.py:224: UserWarning: n_fft=1024 is too small for input signal of length=1020\n",
            "  n_fft, y.shape[-1]\n",
            "100%|██████████| 70/70 [02:24<00:00,  2.07s/it]\n",
            "  0%|          | 0/100 [00:00<?, ?it/s]"
          ],
          "name": "stderr"
        },
        {
          "output_type": "stream",
          "text": [
            "Reading /content/drive/MyDrive/NLP1/non-loaded/*.wav ...\n"
          ],
          "name": "stdout"
        },
        {
          "output_type": "stream",
          "text": [
            "100%|██████████| 100/100 [02:19<00:00,  1.39s/it]\n"
          ],
          "name": "stderr"
        }
      ]
    },
    {
      "cell_type": "code",
      "metadata": {
        "id": "dNbPQ4uqPBIT"
      },
      "source": [
        "import numpy as np\n",
        "np.save('%s.npy' % '/content/drive/MyDrive/NLP1/loaded/01.wav' , features)\n",
        "features = np.load('%s.npy' % '/content/drive/MyDrive/NLP1/loaded/01.wav')"
      ],
      "execution_count": null,
      "outputs": []
    },
    {
      "cell_type": "code",
      "metadata": {
        "id": "NhFW3rI6rPSK"
      },
      "source": [
        "from pyaudioclassification import models,feature_extraction, train, predict"
      ],
      "execution_count": null,
      "outputs": []
    },
    {
      "cell_type": "code",
      "metadata": {
        "id": "-a5fT-c2mOkJ"
      },
      "source": [
        "import numpy as np\n",
        "from keras.optimizers import SGD\n",
        "import matplotlib.pyplot as plt\n",
        "\n",
        "def train(features, labels, type='cnn', num_classes=None, print_summary=False,\n",
        "    save_model=False, lr=0.01, loss_type=None, epochs=50, optimizer='SGD', verbose=True):\n",
        "    \n",
        "    labels = labels.ravel()\n",
        "    if num_classes == None: num_classes = np.max(labels, axis=0)\n",
        "\n",
        "    model = getattr(models, type)(num_classes)\n",
        "    if print_summary == True: model.summary()\n",
        "\n",
        "    if loss_type == None:\n",
        "        loss_type = 'binary' if num_classes <= 2 else 'categorical'\n",
        "    model.compile(optimizer=SGD(learning_rate=lr),\n",
        "                  loss='%s_crossentropy' % loss_type,\n",
        "                  metrics=['accuracy'])\n",
        "\n",
        "    if loss_type == 'categorical':\n",
        "        y = to_categorical(labels - 1, num_classes=num_classes)\n",
        "    else:\n",
        "        y = labels - 1\n",
        "\n",
        "    x = np.expand_dims(features, axis=2)\n",
        "\n",
        "    history=model.fit(x, y, batch_size=64, epochs=epochs, verbose=verbose).history\n",
        "\n",
        "    return model"
      ],
      "execution_count": null,
      "outputs": []
    },
    {
      "cell_type": "code",
      "metadata": {
        "colab": {
          "base_uri": "https://localhost:8080/"
        },
        "id": "3dDZeUbkPLPY",
        "outputId": "602d03ad-65fb-42e8-99ea-fb718e380631"
      },
      "source": [
        "model = train(features, labels, epochs=4, save_model=True , print_summary=True,optimizer='SGD')"
      ],
      "execution_count": null,
      "outputs": [
        {
          "output_type": "stream",
          "text": [
            "Model: \"sequential\"\n",
            "_________________________________________________________________\n",
            "Layer (type)                 Output Shape              Param #   \n",
            "=================================================================\n",
            "conv1d (Conv1D)              (None, 191, 64)           256       \n",
            "_________________________________________________________________\n",
            "activation (Activation)      (None, 191, 64)           0         \n",
            "_________________________________________________________________\n",
            "conv1d_1 (Conv1D)            (None, 189, 64)           12352     \n",
            "_________________________________________________________________\n",
            "activation_1 (Activation)    (None, 189, 64)           0         \n",
            "_________________________________________________________________\n",
            "max_pooling1d (MaxPooling1D) (None, 63, 64)            0         \n",
            "_________________________________________________________________\n",
            "conv1d_2 (Conv1D)            (None, 61, 128)           24704     \n",
            "_________________________________________________________________\n",
            "activation_2 (Activation)    (None, 61, 128)           0         \n",
            "_________________________________________________________________\n",
            "conv1d_3 (Conv1D)            (None, 59, 128)           49280     \n",
            "_________________________________________________________________\n",
            "activation_3 (Activation)    (None, 59, 128)           0         \n",
            "_________________________________________________________________\n",
            "global_average_pooling1d (Gl (None, 128)               0         \n",
            "_________________________________________________________________\n",
            "dropout (Dropout)            (None, 128)               0         \n",
            "_________________________________________________________________\n",
            "dense (Dense)                (None, 1)                 129       \n",
            "_________________________________________________________________\n",
            "activation_4 (Activation)    (None, 1)                 0         \n",
            "=================================================================\n",
            "Total params: 86,721\n",
            "Trainable params: 86,721\n",
            "Non-trainable params: 0\n",
            "_________________________________________________________________\n",
            "Epoch 1/4\n",
            "3/3 [==============================] - 46s 420ms/step - loss: 0.5288 - accuracy: 0.5626\n",
            "Epoch 2/4\n",
            "3/3 [==============================] - 0s 6ms/step - loss: 0.2706 - accuracy: 0.5890\n",
            "Epoch 3/4\n",
            "3/3 [==============================] - 0s 5ms/step - loss: -0.0177 - accuracy: 0.5851\n",
            "Epoch 4/4\n",
            "3/3 [==============================] - 0s 5ms/step - loss: -0.3105 - accuracy: 0.6105\n"
          ],
          "name": "stdout"
        }
      ]
    },
    {
      "cell_type": "code",
      "metadata": {
        "colab": {
          "base_uri": "https://localhost:8080/",
          "height": 294
        },
        "id": "yIu2s6TUHXJl",
        "outputId": "727cbba0-36c1-4b15-e479-043ad59bd4f6"
      },
      "source": [
        "import matplotlib.pyplot as plt\n",
        "\n",
        "plt.plot(model.history.history['accuracy'])\n",
        "plt.title('Model Accuracy')\n",
        "plt.ylabel('Accuracy')\n",
        "plt.xlabel('epoch')\n",
        "plt.legend(['train'],loc='upper left')\n",
        "plt.show()"
      ],
      "execution_count": null,
      "outputs": [
        {
          "output_type": "display_data",
          "data": {
            "image/png": "[encoded data removed]",
            "text/plain": [
              "<Figure size 432x288 with 1 Axes>"
            ]
          },
          "metadata": {
            "tags": [],
            "needs_background": "light"
          }
        }
      ]
    },
    {
      "cell_type": "code",
      "metadata": {
        "colab": {
          "base_uri": "https://localhost:8080/",
          "height": 294
        },
        "id": "vSm2NuAGMog2",
        "outputId": "381c5ea2-924e-4ed1-dc5c-801a2cdd1e1f"
      },
      "source": [
        "plt.plot(model.history.history['loss'])\n",
        "plt.title('Model Loss')\n",
        "plt.ylabel('Loss')\n",
        "plt.xlabel('epoch')\n",
        "plt.legend(['train'],loc='upper right')\n",
        "plt.show()"
      ],
      "execution_count": null,
      "outputs": [
        {
          "output_type": "display_data",
          "data": {
            "image/png": "[encoded data removed]",
            "text/plain": [
              "<Figure size 432x288 with 1 Axes>"
            ]
          },
          "metadata": {
            "tags": [],
            "needs_background": "light"
          }
        }
      ]
    },
    {
      "cell_type": "code",
      "metadata": {
        "id": "BZV8ntRMYOgy"
      },
      "source": [
        "from keras.models import load_model\n",
        "\n",
        "model.save('my_model.h5')\n",
        "model = load_model('my_model.h5')"
      ],
      "execution_count": null,
      "outputs": []
    },
    {
      "cell_type": "code",
      "metadata": {
        "id": "EkLPal6RYyY5",
        "colab": {
          "base_uri": "https://localhost:8080/"
        },
        "outputId": "a40cdb76-faf5-472e-9926-d75a4f965a25"
      },
      "source": [
        "audio = '/content/drive/MyDrive/NLP_Test/Test1.wav'\n",
        "pred = predict(model, audio)\n",
        "print(pred)"
      ],
      "execution_count": null,
      "outputs": [
        {
          "output_type": "stream",
          "text": [
            "[[0.16351336]]\n"
          ],
          "name": "stdout"
        }
      ]
    },
    {
      "cell_type": "code",
      "metadata": {
        "id": "__PF7LEpiW1i",
        "colab": {
          "base_uri": "https://localhost:8080/"
        },
        "outputId": "301dfca5-7431-497f-9e7e-7732c72d3a6c"
      },
      "source": [
        "if(pred[0][0]<0.18):\n",
        "  print(\"Belongs to Loaded Class.\\nThe sentence contains loaded words !\")\n",
        "  flag=1\n",
        "else:\n",
        "  print(\"Belongs to Non-Loaded Class.\\nThe sentence is non-loaded !\")\n",
        "  flag=0"
      ],
      "execution_count": null,
      "outputs": [
        {
          "output_type": "stream",
          "text": [
            "Belongs to Loaded Class.\n",
            "The sentence contains loaded words !\n"
          ],
          "name": "stdout"
        }
      ]
    },
    {
      "cell_type": "code",
      "metadata": {
        "id": "xT1MdNPAAncX",
        "colab": {
          "base_uri": "https://localhost:8080/"
        },
        "outputId": "e255b305-0a39-412e-ea03-22d6883391cb"
      },
      "source": [
        "with sr.AudioFile(audio) as source:                  #converting audio to text\n",
        "    audio_text = r.listen(source)\n",
        "    try:\n",
        "        text = r.recognize_google(audio_text) \n",
        "    except:\n",
        "         print('Sorry.. run again...')\n",
        "\n",
        "\n",
        "if(flag==0):\n",
        "  print(\"The Sentence is:\\n   \"+text)                  #Non-loaded then just print the sentence\n",
        "else:\n",
        "\n",
        "  import nltk                                          #tokenization\n",
        "  nltk.download('punkt')\n",
        "  from nltk.tokenize import word_tokenize\n",
        "  tokens = word_tokenize(text)\n",
        "  print(\"\\n\\nThe Tokens are:\")\n",
        "  print(tokens)\n",
        "  print(\"\\n\")\n",
        "\n",
        "  from nltk.stem import PorterStemmer                  #stemmming\n",
        "  from nltk.tokenize import sent_tokenize, word_tokenize\n",
        "  ps = PorterStemmer()\n",
        "  b=[]\n",
        "  for w in tokens:\n",
        "    b.append(ps.stem(w))\n",
        "\n",
        "  #loaded word array\n",
        "  ld=['anxious','concerned','exhausted','triumphant','categorical','tremendous','veritable','status','aggravate','bureaucrat','damage','atrocious','agony','eliminate','challenging']\n",
        "\n",
        "  for w in tokens:\n",
        "    if w in ld:\n",
        "      print(\"The loaded word is ' \\033[1m\"+w+\"\\033[0m ' !\\n\\n\")\n",
        "      for c in tokens:\n",
        "        if w in c:\n",
        "          text=text.replace(c,\"\\033[1m\"+c+\"\\033[0m\")\n",
        "          break\n",
        "\n",
        "  print(\"The Sentence is:\\n\")\n",
        "  print(\"   \"+text)"
      ],
      "execution_count": null,
      "outputs": [
        {
          "output_type": "stream",
          "text": [
            "[nltk_data] Downloading package punkt to /root/nltk_data...\n",
            "[nltk_data]   Package punkt is already up-to-date!\n",
            "\n",
            "\n",
            "The Tokens are:\n",
            "['this', 'has', 'been', 'a', 'challenging', 'time', 'for', 'all', 'of', 'us']\n",
            "\n",
            "\n",
            "The loaded word is ' \u001b[1mchallenging\u001b[0m ' !\n",
            "\n",
            "\n",
            "The Sentence is:\n",
            "\n",
            "   this has been a \u001b[1mchallenging\u001b[0m time for all of us\n"
          ],
          "name": "stdout"
        }
      ]
    }
  ]
}